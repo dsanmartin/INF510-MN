{
 "cells": [
  {
   "cell_type": "markdown",
   "metadata": {},
   "source": [
    "# INF-510 Computational Numerical Methods\n",
    "## Fire spread model based on Linear Reaction-Convection-Diffusion Equation\n",
    "### Daniel San Martín"
   ]
  },
  {
   "cell_type": "markdown",
   "metadata": {},
   "source": [
    "## Linear Reaction-Convection-Diffusion Equation"
   ]
  },
  {
   "cell_type": "markdown",
   "metadata": {},
   "source": [
    "The linear reaction-convection-diffusion [1] equation is defined by\n",
    "\n",
    "\\begin{equation}\n",
    "    \\frac{\\partial u}{\\partial t} = \\mu \\nabla^2u - \\nabla \\cdot (u\\textbf{v})+au,\n",
    "\\end{equation}\n",
    "\n",
    "where $u$ can represent the temperature or concentration of chemical species in a domain $\\Omega \\in \\mathbb{R}^n$, $\\mu>0$ is the diffusion constant, $\\textbf{v}(\\textbf{x})=(v_1(\\textbf{x}), ..., v_n(\\textbf{x}))$ is a velocity field of flow fluid and $a(\\textbf{x})$ is a reaction rate."
   ]
  },
  {
   "cell_type": "markdown",
   "metadata": {},
   "source": [
    "### Diffusion term\n",
    "\n",
    "The model is based in the process of particles movement and this term is defined by \n",
    "\n",
    "\\begin{equation}\n",
    "    \\begin{split}\n",
    "        \\mu \\nabla^2u & = \\mu\\left(\\frac{\\partial^2 u}{\\partial x_1^2} \n",
    "            + ... + \\frac{\\partial^2 u}{\\partial x_n^2}\\right). \\\\\n",
    "    \\end{split}\n",
    "\\end{equation}\n",
    "\n",
    "For $\\textbf{x}\\in\\mathbb{R}^2$ we have\n",
    "\\begin{equation}\n",
    "    \\mu \\nabla^2u = \\mu\\left(\\frac{\\partial^2 u}{\\partial x^2} + \\frac{\\partial^2 u}{\\partial y^2}\\right).\n",
    "\\end{equation}"
   ]
  },
  {
   "cell_type": "markdown",
   "metadata": {},
   "source": [
    "### Convection term\n",
    "\n",
    "The model includes the effect of a vector field $\\textbf{v}(\\textbf{x})=(v_1(\\textbf{x}), ..., v_n(\\textbf{x}))$ in the form \n",
    "\n",
    "\\begin{equation}\n",
    "    \\begin{split}\n",
    "        \\nabla \\cdot (u\\textbf{v}) & = \\sum_{i=1}^n\\frac{\\partial(uv_i)}{\\partial x_i}.\n",
    "    \\end{split}\n",
    "\\end{equation}\n",
    "\n",
    "For $\\textbf{x}\\in\\mathbb{R}^2$ we have\n",
    "\\begin{equation}\n",
    "    \\begin{split}\n",
    "        \\nabla \\cdot (u\\textbf{v}) & = \\frac{\\partial(uv_1)}{\\partial x} + \\frac{\\partial(uv_2)}{\\partial y} \\\\\n",
    "         & = \\frac{\\partial u}{\\partial x}v_1 + u\\frac{\\partial v_1}{\\partial x} +\n",
    "             \\frac{\\partial u}{\\partial y}v_2 + u\\frac{\\partial v_2}{\\partial y}\n",
    "    \\end{split}\n",
    "\\end{equation}"
   ]
  },
  {
   "cell_type": "markdown",
   "metadata": {},
   "source": [
    "### Reaction term\n",
    "\n",
    "The reaction term is a linear approximation of chemical kinetics and is defined by $au$, where $a$ may be a real number or a scalar field.\n",
    "\n",
    "<!--\\begin{equation}\n",
    "    au = a(\\textbf{x})u(\\textbf{x}).\n",
    "\\end{equation}\n",
    "\n",
    "For $\\textbf{x}\\in\\mathbb{R}^2$ we have $a(x,y)u(x,y)$-->"
   ]
  },
  {
   "cell_type": "markdown",
   "metadata": {},
   "source": [
    "## Fire spreading"
   ]
  },
  {
   "cell_type": "markdown",
   "metadata": {},
   "source": [
    "Assuming that we have a scalar field as fuel and a constant wind, we want to model a fire propagation (heat transport) using the PDE as follow\n",
    "\n",
    "\\begin{equation}\n",
    "    \\begin{split}\n",
    "        \\frac{\\partial u}{\\partial t} & = \\mu \\nabla^2u - \\nabla \\cdot (u\\textbf{v})+au ~ \\text{in} ~ \\Omega \\\\\n",
    "            u\\big|_{\\Gamma} & = f \\\\\n",
    "            u(x,y,0) & = u_0(x,y).\n",
    "    \\end{split}\n",
    "\\end{equation}\n",
    "\n",
    "where $\\Gamma=\\partial\\Omega$ is the domain's boundary."
   ]
  },
  {
   "cell_type": "markdown",
   "metadata": {},
   "source": [
    "### Numerical Method\n",
    "\n",
    "To compute the derivatives we use Chebyshev differentiation matrix for spatial domain and for time domain we use Euler's Method [2]."
   ]
  },
  {
   "cell_type": "code",
   "execution_count": 1,
   "metadata": {},
   "outputs": [],
   "source": [
    "# Python version 3.6.2\n",
    "%matplotlib inline\n",
    "import numpy as np # version 1.13.1\n",
    "import ipywidgets as widgets # version 7.0.1\n",
    "from scipy.interpolate import interp2d # version 0.19.1\n",
    "from scipy.integrate import odeint\n",
    "import matplotlib.pyplot as plt # version 2.0.2\n",
    "from mpl_toolkits.mplot3d import Axes3D   \n",
    "from matplotlib import cm"
   ]
  },
  {
   "cell_type": "code",
   "execution_count": 2,
   "metadata": {},
   "outputs": [],
   "source": [
    "# Chebyshev differentiation matrix\n",
    "def cheb(N):\n",
    "    if N == 0:\n",
    "        D = 0\n",
    "        x = 1\n",
    "        return D, x\n",
    "    x = np.cos(np.pi * np.arange(N + 1) / N)\n",
    "    c = np.hstack((2, np.ones(N - 1), 2)) * ((-1.)**np.arange(N + 1))\n",
    "    X = np.tile(x, (N + 1, 1)).T\n",
    "    dX = X - X.T\n",
    "    D = np.outer(c, 1./c) / (dX + np.eye(N + 1))\n",
    "    D = D - np.diag(np.sum(D.T, axis=0))\n",
    "    return D,x"
   ]
  },
  {
   "cell_type": "code",
   "execution_count": 3,
   "metadata": {},
   "outputs": [],
   "source": [
    "# Plot solution\n",
    "def plot(t, u, v, a, i):\n",
    "    # Finer mesh\n",
    "    fine = np.linspace(-1, 1, 2*N)\n",
    "    Xf, Yf = np.meshgrid(fine, fine)\n",
    "    fu = interp2d(x, y, u[i].reshape(N+1, N+1), kind='cubic')\n",
    "    fa = interp2d(x, y, a(x,y), kind='cubic')\n",
    "    U = fu(fine, fine)  \n",
    "    # Trick to remove oscillation of cubic interpolation\n",
    "    tol = np.min(U) + 1e-2 # Tolerance \n",
    "    U[U <= tol] = tol # Remove values of oscillation\n",
    "    A = fa(fine, fine)\n",
    "    V1 = v[0](Xv, Yv)\n",
    "    V2 = v[1](Xv, Yv)\n",
    "    fig = plt.figure(figsize=(14, 8))      \n",
    "    cont = plt.contourf(Xf, Yf, U, cmap=cm.jet, alpha=0.4)\n",
    "    fig.colorbar(cont)\n",
    "    if (not np.all(A == 0)):\n",
    "        cont2 = plt.contour(Xf, Yf, A, cmap=cm.jet)\n",
    "        fig.colorbar(cont2)\n",
    "    if (not (np.all(V1 == 0) and np.all(V2 == 0))):\n",
    "        plt.quiver(Xv, Yv, V1, V2, alpha=0.5)    \n",
    "    plt.xlabel(\"x\")\n",
    "    plt.ylabel(\"y\")\n",
    "    plt.tight_layout()\n",
    "    plt.title(\"$t$: \" + \"{:10.2f}\".format(t[i]))\n",
    "    plt.show()"
   ]
  },
  {
   "cell_type": "code",
   "execution_count": 4,
   "metadata": {},
   "outputs": [],
   "source": [
    "# Helper to build reaction rate\n",
    "# Gaussian basis\n",
    "def G(x, y):\n",
    "    return np.exp(-(x**2 + y**2))\n",
    "\n",
    "# Superposition of gaussians based in https://commons.wikimedia.org/wiki/File:Scalar_field.png\n",
    "def S(x, y):\n",
    "    return G(2*x, 2*y) + 0.8 * G(2*x + 1.25, 2*y + 1.25) + 0.5 * G(2*x - 1.25, 4*y + 1.25) \\\n",
    "        - 0.5 * G(3*x - 1.25, 3*y - 1.25) + 0.35 * G(2*x + 1.25, 2*y - 1.25) \\\n",
    "        + 0.8 * G(x - 1.25, 3*y + 1.5) + 1.2 * G(x + 1.25, 3*y - 1.85)"
   ]
  },
  {
   "cell_type": "code",
   "execution_count": 6,
   "metadata": {},
   "outputs": [],
   "source": [
    "# PDE's RHS\n",
    "def F(W, t, mu, A, V1, V2):\n",
    "    # Reshape W to Matrix\n",
    "    W = W.reshape(N+1, N+1)\n",
    "    diff = mu*(np.dot(W, D2x.T) + np.dot(D2y, W))    \n",
    "    #conv = np.dot(np.dot(W, Dx.T), V1) + np.dot(W, np.dot(V1, Dx.T)) \\\n",
    "    #    + np.dot(np.dot(Dy, W), V2) + np.dot(W, np.dot(Dy, V2))\n",
    "    #reac = np.dot(A, W)\n",
    "    conv = np.dot(W, Dx.T) * V1 + np.dot(Dy, W) * V2 # np.dot(W, np.dot(V1, Dx.T)) \\\n",
    "         #+ np.dot(W, np.dot(Dy, V2))\n",
    "    reac = A*W\n",
    "    W = diff - conv + reac\n",
    "    \n",
    "    # Boundary conditions\n",
    "    W[0,:] = np.zeros(N+1)\n",
    "    W[-1,:] = np.zeros(N+1)\n",
    "    W[:,0] = np.zeros(N+1)\n",
    "    W[:,-1] = np.zeros(N+1)\n",
    "    \n",
    "    return W.flatten() # Flatten for odeint"
   ]
  },
  {
   "cell_type": "code",
   "execution_count": 7,
   "metadata": {},
   "outputs": [],
   "source": [
    "# Solve PDE\n",
    "def solvePDE(mu, dt, T, A, V1, V2, W):\n",
    "    t = np.linspace(0, dt*T, T)\n",
    "    U = odeint(F, W, t, args=(mu, A, V1, V2))\n",
    "            \n",
    "    return t, U"
   ]
  },
  {
   "cell_type": "code",
   "execution_count": 8,
   "metadata": {},
   "outputs": [],
   "source": [
    "# Plot experiment using widgets\n",
    "def plotExperiment(t, u, v, a):\n",
    "    slider = widgets.IntSlider(\n",
    "        value=0, \n",
    "        min=0, \n",
    "        max=len(t)-1, \n",
    "        step=1, \n",
    "        description='Time step:',\n",
    "        continuous_update=False,\n",
    "        readout=True,\n",
    "        readout_format='d'\n",
    "    )\n",
    "    widgets.interact(plot, t=widgets.fixed(t), u=widgets.fixed(u), \n",
    "                     v=widgets.fixed(v), a=widgets.fixed(a), i=slider)"
   ]
  },
  {
   "cell_type": "code",
   "execution_count": 9,
   "metadata": {},
   "outputs": [],
   "source": [
    "# Solve PDE for parameters\n",
    "def experiment(param):\n",
    "    A = param['a'](X, Y)\n",
    "    V1, V2 = param['v'][0](X, Y), param['v'][1](X, Y)\n",
    "    W = param['u0'](X, Y)  \n",
    "    \n",
    "    t, u = solvePDE(\n",
    "        param['mu'], \n",
    "        param['dt'], \n",
    "        param['T'], \n",
    "        A, \n",
    "        V1, \n",
    "        V2,\n",
    "        W.flatten() # Flatten initial condition for odeint\n",
    "    )\n",
    "    return t, u"
   ]
  },
  {
   "cell_type": "code",
   "execution_count": 10,
   "metadata": {},
   "outputs": [],
   "source": [
    "# Fixed variables\n",
    "N = 40\n",
    "\n",
    "# x variable in [-1,1], Chebyshev\n",
    "Nx = N \n",
    "Dx, x = cheb(Nx)\n",
    "D2x = np.dot(Dx, Dx)\n",
    "\n",
    "# y variable in [-1,1], Chebyshev\n",
    "Ny = N\n",
    "Dy, y = cheb(Ny) \n",
    "D2y = np.dot(Dy, Dy)\n",
    "\n",
    "# Grids\n",
    "X, Y = np.meshgrid(x,y)\n",
    "Xv, Yv = np.mgrid[-1:1:21j, -1:1:21j]"
   ]
  },
  {
   "cell_type": "code",
   "execution_count": 11,
   "metadata": {},
   "outputs": [],
   "source": [
    "# Reaction Rate\n",
    "a = lambda x, y: 10*S(X, Y)\n",
    "\n",
    "# Vectorial field\n",
    "v1 = lambda x, y: 1\n",
    "v2 = lambda x, y: np.sin(x**2 + y**2)\n",
    "\n",
    "# Initial condition\n",
    "u0 = lambda x, y: 1e3*np.exp(-40*((x+.5)**2 + (y+.5)**2))"
   ]
  },
  {
   "cell_type": "markdown",
   "metadata": {},
   "source": [
    "## Experiments"
   ]
  },
  {
   "cell_type": "markdown",
   "metadata": {},
   "source": [
    "### Only Diffusion"
   ]
  },
  {
   "cell_type": "code",
   "execution_count": 12,
   "metadata": {},
   "outputs": [],
   "source": [
    "param1 = {\n",
    "    'mu': .8,\n",
    "    'dt': 1e-2,\n",
    "    'T': 20,\n",
    "    'a': np.vectorize(lambda x, y: 0),\n",
    "    'v': (np.vectorize(lambda x, y: 0), np.vectorize(lambda x, y: 0)),\n",
    "    'u0': u0\n",
    "}"
   ]
  },
  {
   "cell_type": "code",
   "execution_count": 13,
   "metadata": {},
   "outputs": [],
   "source": [
    "t1, u1 = experiment(param1)"
   ]
  },
  {
   "cell_type": "code",
   "execution_count": 14,
   "metadata": {},
   "outputs": [
    {
     "data": {
      "application/vnd.jupyter.widget-view+json": {
       "model_id": "1c4588e8854c46e4a48b56a8b7de69e0",
       "version_major": 2,
       "version_minor": 0
      },
      "text/plain": [
       "interactive(children=(IntSlider(value=0, continuous_update=False, description='Time step:', max=19), Output())…"
      ]
     },
     "metadata": {},
     "output_type": "display_data"
    }
   ],
   "source": [
    "plotExperiment(t1, u1, param1['v'], param1['a'])"
   ]
  },
  {
   "cell_type": "markdown",
   "metadata": {},
   "source": [
    "### Diffusion + Convection"
   ]
  },
  {
   "cell_type": "code",
   "execution_count": 15,
   "metadata": {},
   "outputs": [],
   "source": [
    "param2 = {\n",
    "    'mu': .8,\n",
    "    'dt': 1e-2,\n",
    "    'T': 20,\n",
    "    'a': np.vectorize(lambda x, y: 0),\n",
    "    'v': (v1, v2),\n",
    "    'u0': u0\n",
    "}"
   ]
  },
  {
   "cell_type": "code",
   "execution_count": 16,
   "metadata": {},
   "outputs": [],
   "source": [
    "t2, u2 = experiment(param2)"
   ]
  },
  {
   "cell_type": "code",
   "execution_count": 17,
   "metadata": {},
   "outputs": [
    {
     "data": {
      "application/vnd.jupyter.widget-view+json": {
       "model_id": "5ac1e1b090c44a93b0b1d8d0d6b060d0",
       "version_major": 2,
       "version_minor": 0
      },
      "text/plain": [
       "interactive(children=(IntSlider(value=0, continuous_update=False, description='Time step:', max=19), Output())…"
      ]
     },
     "metadata": {},
     "output_type": "display_data"
    }
   ],
   "source": [
    "plotExperiment(t2, u2, param2['v'], param2['a'])"
   ]
  },
  {
   "cell_type": "markdown",
   "metadata": {},
   "source": [
    "### Diffusion + Reaction"
   ]
  },
  {
   "cell_type": "code",
   "execution_count": 18,
   "metadata": {},
   "outputs": [],
   "source": [
    "param3 = {\n",
    "    'mu': .8,\n",
    "    'dt': 1e-2,\n",
    "    'T': 20,\n",
    "    'a': a,\n",
    "    'v': (np.vectorize(lambda x, y: 0), np.vectorize(lambda x, y: 0)),\n",
    "    'u0': u0\n",
    "}"
   ]
  },
  {
   "cell_type": "code",
   "execution_count": 19,
   "metadata": {},
   "outputs": [],
   "source": [
    "t3, u3 = experiment(param3)"
   ]
  },
  {
   "cell_type": "code",
   "execution_count": 20,
   "metadata": {},
   "outputs": [
    {
     "data": {
      "application/vnd.jupyter.widget-view+json": {
       "model_id": "7d559ca2ee314491941323a328862135",
       "version_major": 2,
       "version_minor": 0
      },
      "text/plain": [
       "interactive(children=(IntSlider(value=0, continuous_update=False, description='Time step:', max=19), Output())…"
      ]
     },
     "metadata": {},
     "output_type": "display_data"
    }
   ],
   "source": [
    "plotExperiment(t3, u3, param3['v'], param3['a'])"
   ]
  },
  {
   "cell_type": "markdown",
   "metadata": {},
   "source": [
    "### Diffusion + Convection + Reaction"
   ]
  },
  {
   "cell_type": "code",
   "execution_count": 27,
   "metadata": {},
   "outputs": [],
   "source": [
    "param4 = {\n",
    "    'mu': .01,\n",
    "    'dt': 1e-2,\n",
    "    'T': 200,\n",
    "    'a': a,\n",
    "    'v': (v1, v2),\n",
    "    'u0': u0\n",
    "}"
   ]
  },
  {
   "cell_type": "code",
   "execution_count": 28,
   "metadata": {
    "scrolled": false
   },
   "outputs": [],
   "source": [
    "t4, u4 = experiment(param4)"
   ]
  },
  {
   "cell_type": "code",
   "execution_count": 29,
   "metadata": {},
   "outputs": [
    {
     "data": {
      "application/vnd.jupyter.widget-view+json": {
       "model_id": "f1393685843741dfb04f192a4b6326fc",
       "version_major": 2,
       "version_minor": 0
      },
      "text/plain": [
       "interactive(children=(IntSlider(value=0, continuous_update=False, description='Time step:', max=199), Output()…"
      ]
     },
     "metadata": {},
     "output_type": "display_data"
    }
   ],
   "source": [
    "plotExperiment(t4, u4, param4['v'], param4['a'])"
   ]
  },
  {
   "cell_type": "markdown",
   "metadata": {},
   "source": [
    "## Conclusions"
   ]
  },
  {
   "cell_type": "markdown",
   "metadata": {},
   "source": [
    "* The first experiment shows how the temperature diffuses over the domain without the effect of wind and fuel.\n",
    "* In the second experiment we note the effect of vector field, where the heat moves in direction of flow.\n",
    "* In the third experiment we note how the temperature moves to zones with high reaction rate.\n",
    "* The last experiment shows the effect of reaction rate together with the vectorial field. The first elevates the temperature in zones with high reaction rate and the second one \"moves\" the heat, slightly increasing the temperature in the direction of the field. \n",
    "\n",
    "Qualitatively, this work shows interesting results since graphically the solutions seem to be consistent with reality, empirically demonstrating the possible effect of vector (\"wind\") and scalar (\"fuel\") field in the propagation of fire."
   ]
  },
  {
   "cell_type": "markdown",
   "metadata": {
    "collapsed": true
   },
   "source": [
    "## References\n",
    "\n",
    "1. Liu, W. (2009). Elementary feedback stabilization of the linear reaction-convection-diffusion equation and the wave equation (Vol. 66). Springer Science & Business Media.\n",
    "2. Trefethen, L. N. (2000). Spectral methods in MATLAB (Vol. 10). Siam."
   ]
  }
 ],
 "metadata": {
  "kernelspec": {
   "display_name": "Python 3",
   "language": "python",
   "name": "python3"
  },
  "language_info": {
   "codemirror_mode": {
    "name": "ipython",
    "version": 3
   },
   "file_extension": ".py",
   "mimetype": "text/x-python",
   "name": "python",
   "nbconvert_exporter": "python",
   "pygments_lexer": "ipython3",
   "version": "3.6.5"
  }
 },
 "nbformat": 4,
 "nbformat_minor": 2
}
