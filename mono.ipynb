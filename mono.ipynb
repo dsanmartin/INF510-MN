{
 "cells": [
  {
   "cell_type": "markdown",
   "metadata": {},
   "source": [
    "# INF-510 Computational Numerical Methods\n",
    "## Fire spread model based on Linear Reaction-Convection-Diffusion Equation\n",
    "### Daniel San Martín"
   ]
  },
  {
   "cell_type": "markdown",
   "metadata": {},
   "source": [
    "## Linear Reaction-Convection-Diffusion Equation"
   ]
  },
  {
   "cell_type": "markdown",
   "metadata": {},
   "source": [
    "The linear reaction-convection-diffusion [1] equation is defined by\n",
    "\n",
    "\\begin{equation}\n",
    "    \\frac{\\partial u}{\\partial t} = \\mu \\nabla^2u - \\nabla \\cdot (u\\textbf{v})+au,\n",
    "\\end{equation}\n",
    "\n",
    "where $u$ can represent the temperature or concentration of chemical species in a domain $\\Omega \\in \\mathbb{R}^n$, $\\mu>0$ is the diffusion constant, $\\textbf{v}(\\textbf{x})=(v_1(\\textbf{x}), ..., v_n(\\textbf{x}))$ is a velocity field of flow fluid and $a(\\textbf{x})$ is a reaction rate."
   ]
  },
  {
   "cell_type": "markdown",
   "metadata": {},
   "source": [
    "### Diffusion term\n",
    "\n",
    "The model is based in the process of particles movement and this term is defined by \n",
    "\n",
    "\\begin{equation}\n",
    "    \\begin{split}\n",
    "        \\mu \\nabla^2u & = \\mu\\left(\\frac{\\partial^2 u}{\\partial x_1^2} \n",
    "            + ... + \\frac{\\partial^2 u}{\\partial x_n^2}\\right). \\\\\n",
    "    \\end{split}\n",
    "\\end{equation}\n",
    "\n",
    "For $\\textbf{x}\\in\\mathbb{R}^2$ we have\n",
    "\\begin{equation}\n",
    "    \\mu \\nabla^2u = \\mu\\left(\\frac{\\partial^2 u}{\\partial x^2} + \\frac{\\partial^2 u}{\\partial y^2}\\right).\n",
    "\\end{equation}"
   ]
  },
  {
   "cell_type": "markdown",
   "metadata": {},
   "source": [
    "### Convection term\n",
    "\n",
    "The model includes the effect of a vector field $\\textbf{v}(\\textbf{x})=(v_1(\\textbf{x}), ..., v_n(\\textbf{x}))$ in the form \n",
    "\n",
    "\\begin{equation}\n",
    "    \\begin{split}\n",
    "        \\nabla \\cdot (u\\textbf{v}) & = \\sum_{i=1}^n\\frac{\\partial(uv_i)}{\\partial x_i}.\n",
    "    \\end{split}\n",
    "\\end{equation}\n",
    "\n",
    "For $\\textbf{x}\\in\\mathbb{R}^2$ we have\n",
    "\\begin{equation}\n",
    "    \\begin{split}\n",
    "        \\nabla \\cdot (u\\textbf{v}) & = \\frac{\\partial(uv_1)}{\\partial x} + \\frac{\\partial(uv_2)}{\\partial y} \\\\\n",
    "         & = \\frac{\\partial u}{\\partial x}v_1 + u\\frac{\\partial v_1}{\\partial x} +\n",
    "             \\frac{\\partial u}{\\partial y}v_2 + u\\frac{\\partial v_2}{\\partial y}\n",
    "    \\end{split}\n",
    "\\end{equation}"
   ]
  },
  {
   "cell_type": "markdown",
   "metadata": {},
   "source": [
    "### Reaction term\n",
    "\n",
    "The reaction term is a linear approximation of chemical kinetics and is defined by $au$, where $a$ may be a real number or a scalar field.\n",
    "\n",
    "<!--\\begin{equation}\n",
    "    au = a(\\textbf{x})u(\\textbf{x}).\n",
    "\\end{equation}\n",
    "\n",
    "For $\\textbf{x}\\in\\mathbb{R}^2$ we have $a(x,y)u(x,y)$-->"
   ]
  },
  {
   "cell_type": "markdown",
   "metadata": {},
   "source": [
    "## Fire spreading"
   ]
  },
  {
   "cell_type": "markdown",
   "metadata": {},
   "source": [
    "Assuming that we have a scalar field as fuel and a constant wind, we want to model a fire propagation (heat transport) using the PDE as follow\n",
    "\n",
    "\\begin{equation}\n",
    "    \\begin{split}\n",
    "        \\frac{\\partial u}{\\partial t} & = \\mu \\nabla^2u - \\nabla \\cdot (u\\textbf{v})+au ~ \\text{in} ~ \\Omega \\\\\n",
    "            u\\big|_{\\Gamma} & = f \\\\\n",
    "            u(x,y,0) & = u_0(x,y).\n",
    "    \\end{split}\n",
    "\\end{equation}\n",
    "\n",
    "where $\\Gamma=\\partial\\Omega$ is the domain's boundary."
   ]
  },
  {
   "cell_type": "markdown",
   "metadata": {},
   "source": [
    "### Numerical Method\n",
    "\n",
    "To compute the derivatives we use Chebyshev differentiation matrix for spatial domain and for time domain we use Euler's Method [2]."
   ]
  },
  {
   "cell_type": "code",
   "execution_count": 1,
   "metadata": {
    "collapsed": true
   },
   "outputs": [],
   "source": [
    "%matplotlib inline\n",
    "import numpy as np\n",
    "import matplotlib.pyplot as plt\n",
    "import ipywidgets as widgets\n",
    "from scipy.interpolate import interp2d\n",
    "from mpl_toolkits.mplot3d import Axes3D\n",
    "from matplotlib import cm"
   ]
  },
  {
   "cell_type": "code",
   "execution_count": 2,
   "metadata": {
    "collapsed": true
   },
   "outputs": [],
   "source": [
    "# Chebyshev differentiation matrix\n",
    "def cheb(N):\n",
    "    if N == 0:\n",
    "        D = 0\n",
    "        x = 1\n",
    "        return D, x\n",
    "    x = np.cos(np.pi * np.arange(N + 1) / N)\n",
    "    c = np.hstack((2, np.ones(N - 1), 2)) * ((-1.)**np.arange(N + 1))\n",
    "    X = np.tile(x, (N + 1, 1)).T\n",
    "    dX = X - X.T\n",
    "    D = np.outer(c, 1./c) / (dX + np.eye(N + 1))\n",
    "    D = D - np.diag(np.sum(D.T, axis=0))\n",
    "    return D,x"
   ]
  },
  {
   "cell_type": "code",
   "execution_count": 3,
   "metadata": {
    "collapsed": true
   },
   "outputs": [],
   "source": [
    "# Plot initial condition\n",
    "def plotIC(x, y, u):\n",
    "    plt.subplot(1, 3, 1)\n",
    "    plt.title(\"Initial Condition\")\n",
    "    fine = np.linspace(-1, 1, 5*N)\n",
    "    Xf, Yf = np.meshgrid(fine, fine)\n",
    "    f = interp2d(x, y, u, kind='cubic')\n",
    "    u = f(fine, fine)\n",
    "    #count = plt.contourf(Xf, Yf, u, cmap=cm.jet)\n",
    "    count = plt.imshow(u, cmap=cm.jet, extent=[-1, 1, -1, 1], origin=\"lower\", interpolation=\"gaussian\")\n",
    "    plt.xlabel(\"x\")\n",
    "    plt.ylabel(\"y\")\n",
    "    return count"
   ]
  },
  {
   "cell_type": "code",
   "execution_count": 4,
   "metadata": {
    "collapsed": true
   },
   "outputs": [],
   "source": [
    "# Plot fluid flow\n",
    "def plotFluid(Xv, Yv, V1, V2):\n",
    "    plt.subplot(1, 3, 2)\n",
    "    plt.title(\"Fluid\")\n",
    "    if (np.all(V1 == 0) and np.all(V2 == 0)): return\n",
    "    quiv = plt.quiver(Xv, Yv, V1, V2)\n",
    "    plt.xlabel(\"x\")\n",
    "    plt.ylabel(\"y\")\n",
    "    return quiv"
   ]
  },
  {
   "cell_type": "code",
   "execution_count": 5,
   "metadata": {
    "collapsed": true
   },
   "outputs": [],
   "source": [
    "# Plot reaction rate\n",
    "def plotReaction(x, y, a):\n",
    "    plt.subplot(1, 3, 3)\n",
    "    plt.title(\"Reaction Rate\")\n",
    "    fine = np.linspace(-1, 1, 5*N)\n",
    "    Xf, Yf = np.meshgrid(fine, fine)\n",
    "    f = interp2d(x, y, a, kind='cubic')\n",
    "    a = f(fine, fine)\n",
    "    count = plt.contourf(Xf, Yf, a, cmap=cm.jet)\n",
    "    plt.xlabel(\"x\")\n",
    "    plt.ylabel(\"y\")\n",
    "    return count"
   ]
  },
  {
   "cell_type": "code",
   "execution_count": 6,
   "metadata": {
    "collapsed": true
   },
   "outputs": [],
   "source": [
    "def plot3(W, V1, V2, A):\n",
    "    fig = plt.figure(figsize=(16, 4))\n",
    "    ic = plotIC(X, Y, W)\n",
    "    fig.colorbar(ic)        \n",
    "    fl = plotFluid(Xv, Yv, V1, V2)\n",
    "    rr = plotReaction(X, Y, A)        \n",
    "    fig.colorbar(rr)\n",
    "    plt.tight_layout()\n",
    "    plt.show()"
   ]
  },
  {
   "cell_type": "code",
   "execution_count": 7,
   "metadata": {
    "collapsed": true
   },
   "outputs": [],
   "source": [
    "# Plot solution\n",
    "def plot(t, u, d, i, elev, azim):\n",
    "    fine = np.linspace(-1, 1, 4*N)\n",
    "    Xf, Yf = np.meshgrid(fine, fine)\n",
    "    f = interp2d(x, y, u[i], kind='cubic')\n",
    "    v = f(fine, fine)    \n",
    "    vmn, vmx = np.min(u), np.max(u)\n",
    "    fig = plt.figure(figsize=(10, 8))\n",
    "    if d == 1:        \n",
    "        ax = fig.gca(projection='3d')                        \n",
    "        surf = ax.plot_surface(Xf, Yf, v, rstride=1, cstride=1, cmap=cm.jet)#, vmin=vmn, vmax=vmx)  \n",
    "        fig.colorbar(surf)\n",
    "        ax.view_init(elev=elev, azim=azim)\n",
    "        ax.set_xlabel(\"x\")\n",
    "        ax.set_ylabel(\"y\")\n",
    "        ax.set_zlabel(\"u(x,y)\")\n",
    "        ax.set_zlim([vmn, vmx])\n",
    "    else:        \n",
    "        cont = plt.contourf(Xf, Yf, v, cmap=cm.jet)#, vmin=vmn, vmax=vmx, antialiased=True)\n",
    "        fig.colorbar(cont)\n",
    "        \n",
    "    plt.title(\"$t$: \" + \"{:10.2f}\".format(t[i]))\n",
    "    plt.show()"
   ]
  },
  {
   "cell_type": "code",
   "execution_count": 8,
   "metadata": {
    "collapsed": true
   },
   "outputs": [],
   "source": [
    "# Helper to build reaction rate\n",
    "# Gaussian basis\n",
    "def G(x, y):\n",
    "    return np.exp(-(x**2 + y**2))\n",
    "\n",
    "# Superposition of gaussians based in https://commons.wikimedia.org/wiki/File:Scalar_field.png\n",
    "def S(x, y):\n",
    "    return G(2*x, 2*y) + 0.8 * G(2*x + 1.25, 2*y + 1.25) + 0.5 * G(2*x - 1.25, 4*y + 1.25) \\\n",
    "        - 0.5 * G(3*x - 1.25, 3*y - 1.25) + 0.35 * G(2*x + 1.25, 2*y - 1.25) \\\n",
    "        + 0.8 * G(x - 1.25, 3*y + 1.5) + 1.2 * G(x + 1.25, 3*y - 1.85)"
   ]
  },
  {
   "cell_type": "code",
   "execution_count": 34,
   "metadata": {
    "collapsed": true
   },
   "outputs": [],
   "source": [
    "# Use Euler for time domain\n",
    "def solvePDE(mu, dt, T, A, V1, V2, W):\n",
    "    u = [W]\n",
    "    t = [0]\n",
    "\n",
    "    # Euler\n",
    "    for n in range(T):\n",
    "\n",
    "        diff = mu*(np.dot(W, D2x.T) + np.dot(D2y, W))    \n",
    "        conv = np.dot(np.dot(W, Dx.T), V1) + np.dot(W, np.dot(V1, Dx.T)) \\\n",
    "            + np.dot(np.dot(Dy, W), V2) + np.dot(W, np.dot(Dy, V2))\n",
    "        reac = np.dot(A, W)\n",
    "\n",
    "        W = W + dt*(diff - conv + reac) \n",
    "\n",
    "        # Border condition, f=0\n",
    "        W[0,:] = np.zeros(N+1)\n",
    "        W[-1,:] = np.zeros(N+1)\n",
    "        W[:,0] = np.zeros(N+1)\n",
    "        W[:,-1] = np.zeros(N+1)\n",
    "\n",
    "        if (n % 2 == 0): # keep some plots\n",
    "            u.append(W)\n",
    "            t.append(n*dt)\n",
    "            \n",
    "    return t, u"
   ]
  },
  {
   "cell_type": "code",
   "execution_count": 10,
   "metadata": {
    "collapsed": true
   },
   "outputs": [],
   "source": [
    "# Plot experiment using widgets\n",
    "def plotExperiment(t, u):\n",
    "    slider = widgets.IntSlider(\n",
    "        value=0, \n",
    "        min=0, \n",
    "        max=len(t)-1, \n",
    "        step=1, \n",
    "        description='Time step:',\n",
    "        continuous_update=False,\n",
    "        readout=True,\n",
    "        readout_format='d'\n",
    "    )\n",
    "\n",
    "    ele = widgets.IntSlider(\n",
    "        value=30,\n",
    "        min=0,\n",
    "        max=90,\n",
    "        step=10,\n",
    "        description='Elevation:'\n",
    "    )\n",
    "\n",
    "    azi = widgets.IntSlider(\n",
    "        value=220,\n",
    "        min=220,\n",
    "        max=270,\n",
    "        step=10,\n",
    "        description='Azimuth:'\n",
    "    )\n",
    "\n",
    "    drop = widgets.Dropdown(\n",
    "        options={'Contour': 0, 'Surface': 1},\n",
    "        value=0,\n",
    "        description='Plot:',\n",
    "    )\n",
    "    \n",
    "    widgets.interact(plot, t=widgets.fixed(t), u=widgets.fixed(u), d=drop, i=slider, elev=ele, azim=azi)"
   ]
  },
  {
   "cell_type": "code",
   "execution_count": 11,
   "metadata": {
    "collapsed": true
   },
   "outputs": [],
   "source": [
    "# Solve PDE for parameters\n",
    "def experiment(param):\n",
    "    A = param['a'](X, Y)\n",
    "    V1, V2 = param['v'][0](X, Y), param['v'][1](X, Y)\n",
    "    W = param['u0'](X, Y)  \n",
    "    \n",
    "    t, u = solvePDE(\n",
    "        param['mu'], \n",
    "        param['dt'], \n",
    "        param['T'], \n",
    "        A, \n",
    "        V1, \n",
    "        V2,\n",
    "        W\n",
    "    )\n",
    "    return t, u"
   ]
  },
  {
   "cell_type": "code",
   "execution_count": 12,
   "metadata": {
    "collapsed": true
   },
   "outputs": [],
   "source": [
    "# Fixed variables\n",
    "N = 20\n",
    "\n",
    "# x variable in [-1,1], Chebyshev\n",
    "Nx = N; Dx, x = cheb(Nx)\n",
    "D2x = np.dot(Dx, Dx);\n",
    "\n",
    "# y variable in [-1,1], Chebyshev\n",
    "Ny = N; Dy, y = cheb(Ny) \n",
    "D2y = np.dot(Dy, Dy)\n",
    "\n",
    "# Grids\n",
    "X, Y = np.meshgrid(x,y)\n",
    "Xv, Yv = np.mgrid[-1:1:21j, -1:1:21j]\n",
    "\n",
    "# Finer mesh\n",
    "fine = np.linspace(-1, 1, 4*N)\n",
    "Xf, Yf = np.meshgrid(fine, fine)"
   ]
  },
  {
   "cell_type": "code",
   "execution_count": 13,
   "metadata": {
    "collapsed": true
   },
   "outputs": [],
   "source": [
    "# Reaction Rate\n",
    "a = lambda x, y: 10*S(X, Y)\n",
    "\n",
    "# Vectorial field\n",
    "v1 = lambda x, y: 1\n",
    "v2 = lambda x, y: np.sin(x**2 + y**2)\n",
    "\n",
    "# Initial condition\n",
    "u0 = lambda x, y: 1e3*np.exp(-40*((x+.5)**2 + (y+.5)**2))"
   ]
  },
  {
   "cell_type": "code",
   "execution_count": 14,
   "metadata": {},
   "outputs": [
    {
     "data": {
      "image/png": "[encoded data removed]",
      "text/plain": [
       "<matplotlib.figure.Figure at 0x7fa77ff3eda0>"
      ]
     },
     "metadata": {},
     "output_type": "display_data"
    }
   ],
   "source": [
    "plot3(u0(X, Y), v1(X, Y), v2(X, Y), a(X, Y))"
   ]
  },
  {
   "cell_type": "markdown",
   "metadata": {},
   "source": [
    "## Experiments"
   ]
  },
  {
   "cell_type": "markdown",
   "metadata": {},
   "source": [
    "### Only Diffusion"
   ]
  },
  {
   "cell_type": "code",
   "execution_count": 15,
   "metadata": {
    "collapsed": true
   },
   "outputs": [],
   "source": [
    "param1 = {\n",
    "    'mu': .8,\n",
    "    'dt': 1e-5,\n",
    "    'T': 4000,\n",
    "    'a': np.vectorize(lambda x, y: 0),\n",
    "    'v': (np.vectorize(lambda x, y: 0), np.vectorize(lambda x, y: 0)),\n",
    "    'u0': u0\n",
    "}"
   ]
  },
  {
   "cell_type": "code",
   "execution_count": 16,
   "metadata": {
    "collapsed": true
   },
   "outputs": [],
   "source": [
    "t1, u1 = experiment(param1)"
   ]
  },
  {
   "cell_type": "code",
   "execution_count": 17,
   "metadata": {},
   "outputs": [
    {
     "data": {
      "application/vnd.jupyter.widget-view+json": {
       "model_id": "e566b55e6cec4be781b56115e2b1b586",
       "version_major": 2,
       "version_minor": 0
      },
      "text/html": [
       "<p>Failed to display Jupyter Widget of type <code>interactive</code>.</p>\n",
       "<p>\n",
       "  If you're reading this message in Jupyter Notebook or JupyterLab, it may mean\n",
       "  that the widgets JavaScript is still loading. If this message persists, it\n",
       "  likely means that the widgets JavaScript library is either not installed or\n",
       "  not enabled. See the <a href=\"https://ipywidgets.readthedocs.io/en/stable/user_install.html\">Jupyter\n",
       "  Widgets Documentation</a> for setup instructions.\n",
       "</p>\n",
       "<p>\n",
       "  If you're reading this message in another notebook frontend (for example, a static\n",
       "  rendering on GitHub or <a href=\"https://nbviewer.jupyter.org/\">NBViewer</a>),\n",
       "  it may mean that your frontend doesn't currently support widgets.\n",
       "</p>\n"
      ],
      "text/plain": [
       "interactive(children=(Dropdown(description='Plot:', options={'Contour': 0, 'Surface': 1}, value=0), IntSlider(value=0, continuous_update=False, description='Time step:', max=2000), IntSlider(value=30, description='Elevation:', max=90, step=10), IntSlider(value=220, description='Azimuth:', max=270, min=220, step=10), Output()), _dom_classes=('widget-interact',))"
      ]
     },
     "metadata": {},
     "output_type": "display_data"
    }
   ],
   "source": [
    "plotExperiment(t1, u1)"
   ]
  },
  {
   "cell_type": "markdown",
   "metadata": {},
   "source": [
    "This experiment shows how the temperature diffuses over the domain."
   ]
  },
  {
   "cell_type": "markdown",
   "metadata": {},
   "source": [
    "### Diffusion + Convection"
   ]
  },
  {
   "cell_type": "code",
   "execution_count": 35,
   "metadata": {
    "collapsed": true
   },
   "outputs": [],
   "source": [
    "param2 = {\n",
    "    'mu': .8,\n",
    "    'dt': 1e-5,\n",
    "    'T': 4000,\n",
    "    'a': np.vectorize(lambda x, y: 0),\n",
    "    'v': (v1, v2),\n",
    "    'u0': u0\n",
    "}"
   ]
  },
  {
   "cell_type": "code",
   "execution_count": 36,
   "metadata": {
    "collapsed": true
   },
   "outputs": [],
   "source": [
    "t2, u2 = experiment(param2)"
   ]
  },
  {
   "cell_type": "code",
   "execution_count": 37,
   "metadata": {},
   "outputs": [
    {
     "data": {
      "application/vnd.jupyter.widget-view+json": {
       "model_id": "43758ad8e43241229c3a8662a2c5021b",
       "version_major": 2,
       "version_minor": 0
      },
      "text/html": [
       "<p>Failed to display Jupyter Widget of type <code>interactive</code>.</p>\n",
       "<p>\n",
       "  If you're reading this message in Jupyter Notebook or JupyterLab, it may mean\n",
       "  that the widgets JavaScript is still loading. If this message persists, it\n",
       "  likely means that the widgets JavaScript library is either not installed or\n",
       "  not enabled. See the <a href=\"https://ipywidgets.readthedocs.io/en/stable/user_install.html\">Jupyter\n",
       "  Widgets Documentation</a> for setup instructions.\n",
       "</p>\n",
       "<p>\n",
       "  If you're reading this message in another notebook frontend (for example, a static\n",
       "  rendering on GitHub or <a href=\"https://nbviewer.jupyter.org/\">NBViewer</a>),\n",
       "  it may mean that your frontend doesn't currently support widgets.\n",
       "</p>\n"
      ],
      "text/plain": [
       "interactive(children=(Dropdown(description='Plot:', options={'Contour': 0, 'Surface': 1}, value=0), IntSlider(value=0, continuous_update=False, description='Time step:', max=2000), IntSlider(value=30, description='Elevation:', max=90, step=10), IntSlider(value=220, description='Azimuth:', max=270, min=220, step=10), Output()), _dom_classes=('widget-interact',))"
      ]
     },
     "metadata": {},
     "output_type": "display_data"
    }
   ],
   "source": [
    "plotExperiment(t2, u2)"
   ]
  },
  {
   "cell_type": "markdown",
   "metadata": {},
   "source": [
    "In this experiment we note the effect of vector field, where the heat moves in direction of flow."
   ]
  },
  {
   "cell_type": "markdown",
   "metadata": {},
   "source": [
    "### Diffusion + Reaction"
   ]
  },
  {
   "cell_type": "code",
   "execution_count": 21,
   "metadata": {},
   "outputs": [],
   "source": [
    "param3 = {\n",
    "    'mu': .8,\n",
    "    'dt': 1e-5,\n",
    "    'T': 4000,\n",
    "    'a': a,\n",
    "    'v': (np.vectorize(lambda x, y: 0), np.vectorize(lambda x, y: 0)),\n",
    "    'u0': u0\n",
    "}"
   ]
  },
  {
   "cell_type": "code",
   "execution_count": 22,
   "metadata": {},
   "outputs": [],
   "source": [
    "t3, u3 = experiment(param3)"
   ]
  },
  {
   "cell_type": "code",
   "execution_count": 23,
   "metadata": {},
   "outputs": [
    {
     "data": {
      "application/vnd.jupyter.widget-view+json": {
       "model_id": "4c8a230f10474ec58b20212a29758a82",
       "version_major": 2,
       "version_minor": 0
      },
      "text/html": [
       "<p>Failed to display Jupyter Widget of type <code>interactive</code>.</p>\n",
       "<p>\n",
       "  If you're reading this message in Jupyter Notebook or JupyterLab, it may mean\n",
       "  that the widgets JavaScript is still loading. If this message persists, it\n",
       "  likely means that the widgets JavaScript library is either not installed or\n",
       "  not enabled. See the <a href=\"https://ipywidgets.readthedocs.io/en/stable/user_install.html\">Jupyter\n",
       "  Widgets Documentation</a> for setup instructions.\n",
       "</p>\n",
       "<p>\n",
       "  If you're reading this message in another notebook frontend (for example, a static\n",
       "  rendering on GitHub or <a href=\"https://nbviewer.jupyter.org/\">NBViewer</a>),\n",
       "  it may mean that your frontend doesn't currently support widgets.\n",
       "</p>\n"
      ],
      "text/plain": [
       "interactive(children=(Dropdown(description='Plot:', options={'Contour': 0, 'Surface': 1}, value=0), IntSlider(value=0, continuous_update=False, description='Time step:', max=2000), IntSlider(value=30, description='Elevation:', max=90, step=10), IntSlider(value=220, description='Azimuth:', max=270, min=220, step=10), Output()), _dom_classes=('widget-interact',))"
      ]
     },
     "metadata": {},
     "output_type": "display_data"
    }
   ],
   "source": [
    "plotExperiment(t3, u3)"
   ]
  },
  {
   "cell_type": "markdown",
   "metadata": {},
   "source": [
    "Here we note the temperature moves to zones with high reaction rate."
   ]
  },
  {
   "cell_type": "markdown",
   "metadata": {},
   "source": [
    "### Diffusion + Convection + Reaction"
   ]
  },
  {
   "cell_type": "code",
   "execution_count": 24,
   "metadata": {
    "collapsed": true
   },
   "outputs": [],
   "source": [
    "param4 = {\n",
    "    'mu': .8,\n",
    "    'dt': 1e-5,\n",
    "    'T': 4000,\n",
    "    'a': a,\n",
    "    'v': (v1, v2),\n",
    "    'u0': u0\n",
    "}"
   ]
  },
  {
   "cell_type": "code",
   "execution_count": 25,
   "metadata": {
    "scrolled": false
   },
   "outputs": [],
   "source": [
    "t4, u4 = experiment(param4)"
   ]
  },
  {
   "cell_type": "code",
   "execution_count": 26,
   "metadata": {},
   "outputs": [
    {
     "data": {
      "application/vnd.jupyter.widget-view+json": {
       "model_id": "fdfccb7911914cbb97f7314cebd732e6",
       "version_major": 2,
       "version_minor": 0
      },
      "text/html": [
       "<p>Failed to display Jupyter Widget of type <code>interactive</code>.</p>\n",
       "<p>\n",
       "  If you're reading this message in Jupyter Notebook or JupyterLab, it may mean\n",
       "  that the widgets JavaScript is still loading. If this message persists, it\n",
       "  likely means that the widgets JavaScript library is either not installed or\n",
       "  not enabled. See the <a href=\"https://ipywidgets.readthedocs.io/en/stable/user_install.html\">Jupyter\n",
       "  Widgets Documentation</a> for setup instructions.\n",
       "</p>\n",
       "<p>\n",
       "  If you're reading this message in another notebook frontend (for example, a static\n",
       "  rendering on GitHub or <a href=\"https://nbviewer.jupyter.org/\">NBViewer</a>),\n",
       "  it may mean that your frontend doesn't currently support widgets.\n",
       "</p>\n"
      ],
      "text/plain": [
       "interactive(children=(Dropdown(description='Plot:', options={'Contour': 0, 'Surface': 1}, value=0), IntSlider(value=0, continuous_update=False, description='Time step:', max=2000), IntSlider(value=30, description='Elevation:', max=90, step=10), IntSlider(value=220, description='Azimuth:', max=270, min=220, step=10), Output()), _dom_classes=('widget-interact',))"
      ]
     },
     "metadata": {},
     "output_type": "display_data"
    }
   ],
   "source": [
    "plotExperiment(t4, u4)"
   ]
  },
  {
   "cell_type": "markdown",
   "metadata": {},
   "source": [
    "We note in this experiment the effect of reaction rate together with the vectorial field. The first elevates the temperature in zones with high reaction rate and the second one \"moves\" the heat, slightly increasing the temperature in the direction of the field."
   ]
  },
  {
   "cell_type": "markdown",
   "metadata": {
    "collapsed": true
   },
   "source": [
    "## References\n",
    "\n",
    "1. Liu, W. (2009). Elementary feedback stabilization of the linear reaction-convection-diffusion equation and the wave equation (Vol. 66). Springer Science & Business Media.\n",
    "2. Trefethen, L. N. (2000). Spectral methods in MATLAB (Vol. 10). Siam."
   ]
  }
 ],
 "metadata": {
  "kernelspec": {
   "display_name": "Python 3",
   "language": "python",
   "name": "python3"
  },
  "language_info": {
   "codemirror_mode": {
    "name": "ipython",
    "version": 3
   },
   "file_extension": ".py",
   "mimetype": "text/x-python",
   "name": "python",
   "nbconvert_exporter": "python",
   "pygments_lexer": "ipython3",
   "version": "3.6.2"
  }
 },
 "nbformat": 4,
 "nbformat_minor": 2
}
